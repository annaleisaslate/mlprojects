{
 "cells": [
  {
   "cell_type": "code",
   "execution_count": 1,
   "id": "7b3ed4b5",
   "metadata": {},
   "outputs": [
    {
     "name": "stdout",
     "output_type": "stream",
     "text": [
      "/opt/anaconda3/bin/python\n"
     ]
    }
   ],
   "source": [
    "import sys\n",
    "print(sys.executable)"
   ]
  },
  {
   "cell_type": "code",
   "execution_count": 2,
   "id": "e886a473",
   "metadata": {
    "scrolled": true
   },
   "outputs": [],
   "source": [
    "import pandas as pd\n",
    "import seaborn as sns\n",
    "import nltk\n",
    "from sklearn.feature_extraction.text import CountVectorizer\n",
    "from sklearn.feature_extraction.text import TfidfVectorizer\n",
    "from sklearn.preprocessing import LabelBinarizer\n",
    "from nltk.corpus import stopwords\n",
    "from nltk.stem.porter import PorterStemmer\n",
    "from wordcloud import WordCloud,STOPWORDS\n",
    "from nltk.stem import WordNetLemmatizer\n",
    "from nltk.tokenize import word_tokenize,sent_tokenize"
   ]
  },
  {
   "cell_type": "code",
   "execution_count": 3,
   "id": "c8d8e1c5",
   "metadata": {},
   "outputs": [],
   "source": [
    "import spacy\n",
    "nlp = spacy.load(\"en_core_web_sm\")"
   ]
  },
  {
   "cell_type": "code",
   "execution_count": 4,
   "id": "21b14350",
   "metadata": {},
   "outputs": [],
   "source": [
    "import re,string,unicodedata\n",
    "from nltk.tokenize.toktok import ToktokTokenizer\n",
    "from nltk.stem import LancasterStemmer,WordNetLemmatizer\n",
    "from sklearn.linear_model import LogisticRegression, SGDClassifier\n",
    "from sklearn.naive_bayes import MultinomialNB\n",
    "from sklearn.svm import SVC\n",
    "from textblob import TextBlob\n",
    "from textblob import Word\n",
    "from sklearn.metrics import classification_report, confusion_matrix, accuracy_score\n",
    "from bs4 import BeautifulSoup"
   ]
  },
  {
   "cell_type": "code",
   "execution_count": 5,
   "id": "c9affed3",
   "metadata": {},
   "outputs": [],
   "source": [
    "import os"
   ]
  },
  {
   "cell_type": "code",
   "execution_count": 6,
   "id": "b604f92b",
   "metadata": {},
   "outputs": [],
   "source": [
    "df = pd.read_csv(\"imdb.csv\")"
   ]
  },
  {
   "cell_type": "code",
   "execution_count": 7,
   "id": "343174ca",
   "metadata": {},
   "outputs": [
    {
     "data": {
      "text/plain": [
       "<bound method NDFrame.head of                                                   review sentiment\n",
       "0      One of the other reviewers has mentioned that ...  positive\n",
       "1      A wonderful little production. <br /><br />The...  positive\n",
       "2      I thought this was a wonderful way to spend ti...  positive\n",
       "3      Basically there's a family where a little boy ...  negative\n",
       "4      Petter Mattei's \"Love in the Time of Money\" is...  positive\n",
       "...                                                  ...       ...\n",
       "49995  I thought this movie did a down right good job...  positive\n",
       "49996  Bad plot, bad dialogue, bad acting, idiotic di...  negative\n",
       "49997  I am a Catholic taught in parochial elementary...  negative\n",
       "49998  I'm going to have to disagree with the previou...  negative\n",
       "49999  No one expects the Star Trek movies to be high...  negative\n",
       "\n",
       "[50000 rows x 2 columns]>"
      ]
     },
     "execution_count": 7,
     "metadata": {},
     "output_type": "execute_result"
    }
   ],
   "source": [
    "df.head"
   ]
  },
  {
   "cell_type": "code",
   "execution_count": 8,
   "id": "18fa60da",
   "metadata": {},
   "outputs": [],
   "source": [
    "from sklearn.model_selection import train_test_split\n",
    "train, test = train_test_split(df, test_size=0.2)"
   ]
  },
  {
   "cell_type": "code",
   "execution_count": 9,
   "id": "efaf1c1b",
   "metadata": {},
   "outputs": [
    {
     "data": {
      "text/plain": [
       "<bound method NDFrame.head of                                                   review sentiment\n",
       "14801  I went to this movie only because I was dragge...  positive\n",
       "28461  There is one great moment in *Surviving Christ...  negative\n",
       "6815   Well, I saw that yesterday and It was much bet...  positive\n",
       "47481  This was such a waste of time. Danger: If you ...  negative\n",
       "40180  The Ascent (1977) <br /><br />Larisa Shepitko ...  positive\n",
       "...                                                  ...       ...\n",
       "5611   I have no idea what the producers of The Shiel...  negative\n",
       "12331  Everyone has a first love, and though it is ha...  positive\n",
       "46094  On a dark, gloomy New Year's Eve night, an ill...  positive\n",
       "29644  As you can tell from the few comments posted h...  positive\n",
       "35151  even though this movie is quite old, no matter...  positive\n",
       "\n",
       "[40000 rows x 2 columns]>"
      ]
     },
     "execution_count": 9,
     "metadata": {},
     "output_type": "execute_result"
    }
   ],
   "source": [
    "train.head"
   ]
  },
  {
   "cell_type": "markdown",
   "id": "833f96d1",
   "metadata": {},
   "source": [
    "preprocessing"
   ]
  },
  {
   "cell_type": "code",
   "execution_count": 10,
   "id": "e9860324",
   "metadata": {},
   "outputs": [],
   "source": [
    "ptrain = train[train.sentiment == \"positive\"]"
   ]
  },
  {
   "cell_type": "code",
   "execution_count": 11,
   "id": "a9c19176",
   "metadata": {},
   "outputs": [],
   "source": [
    "ntrain = train[train.sentiment == \"negative\"]"
   ]
  },
  {
   "cell_type": "code",
   "execution_count": 12,
   "id": "ed64baa7",
   "metadata": {},
   "outputs": [
    {
     "data": {
      "text/plain": [
       "<bound method NDFrame.head of                                                   review sentiment\n",
       "28461  There is one great moment in *Surviving Christ...  negative\n",
       "47481  This was such a waste of time. Danger: If you ...  negative\n",
       "46230  I rented this movie, knowing that it would be ...  negative\n",
       "7169   Genie (Zoe Trilling) arrives in Egypt to visit...  negative\n",
       "25640  Hilariously obvious \"drama\" about a bunch of h...  negative\n",
       "...                                                  ...       ...\n",
       "14906  Look carefully at the wonderful assortment of ...  negative\n",
       "49797  Yeah i bought camp blood and it wasted about 8...  negative\n",
       "30551  You want the worst horror movie of the 21st ce...  negative\n",
       "18310  What a terrible sequel. The reason I give this...  negative\n",
       "5611   I have no idea what the producers of The Shiel...  negative\n",
       "\n",
       "[20051 rows x 2 columns]>"
      ]
     },
     "execution_count": 12,
     "metadata": {},
     "output_type": "execute_result"
    }
   ],
   "source": [
    "ntrain.head"
   ]
  },
  {
   "cell_type": "code",
   "execution_count": 13,
   "id": "c12abecb",
   "metadata": {},
   "outputs": [
    {
     "data": {
      "text/plain": [
       "<bound method NDFrame.head of                                                   review sentiment\n",
       "14801  I went to this movie only because I was dragge...  positive\n",
       "6815   Well, I saw that yesterday and It was much bet...  positive\n",
       "40180  The Ascent (1977) <br /><br />Larisa Shepitko ...  positive\n",
       "34416  This movie embodies the soul of modern \"elite\"...  positive\n",
       "43695  This is film-making at it's simplest and it's ...  positive\n",
       "...                                                  ...       ...\n",
       "7164   Everyone knows about this ''Zero Day'' event. ...  positive\n",
       "12331  Everyone has a first love, and though it is ha...  positive\n",
       "46094  On a dark, gloomy New Year's Eve night, an ill...  positive\n",
       "29644  As you can tell from the few comments posted h...  positive\n",
       "35151  even though this movie is quite old, no matter...  positive\n",
       "\n",
       "[19949 rows x 2 columns]>"
      ]
     },
     "execution_count": 13,
     "metadata": {},
     "output_type": "execute_result"
    }
   ],
   "source": [
    "ptrain.head"
   ]
  },
  {
   "cell_type": "code",
   "execution_count": 14,
   "id": "41d115e1",
   "metadata": {},
   "outputs": [],
   "source": [
    "negativereviews = []\n",
    "for review in ntrain[\"review\"]:\n",
    "    review = review.replace(\"<br />\", \" \")\n",
    "    doc = nlp(review)\n",
    "    tokenbyreview = []\n",
    "    ##print(review)\n",
    "    for token in doc:\n",
    "        if token.is_stop==False and token.is_punct==False and token.text.isnumeric()==False:\n",
    "            tokenbyreview.append(token.text.lower())\n",
    "            ##print(token.text.lower())\n",
    "    ##print(tokenbyreview)\n",
    "    negativereviews.append(set(tokenbyreview))"
   ]
  },
  {
   "cell_type": "code",
   "execution_count": 15,
   "id": "2f5301dd",
   "metadata": {},
   "outputs": [],
   "source": [
    "##negativereviews"
   ]
  },
  {
   "cell_type": "code",
   "execution_count": 16,
   "id": "efd22f30",
   "metadata": {},
   "outputs": [],
   "source": [
    "count_negativetrain = {}\n",
    "for bag in negativereviews:\n",
    "    for word in bag:\n",
    "        if word not in count_negativetrain:\n",
    "            count_negativetrain[word]=1\n",
    "        else: \n",
    "            count_negativetrain[word]+=1\n",
    "##print(sorted(list(count_negativetrain.items()), key=lambda x: x[1], reverse=True)) "
   ]
  },
  {
   "cell_type": "code",
   "execution_count": 17,
   "id": "787de6aa",
   "metadata": {},
   "outputs": [],
   "source": [
    "positivereviews = []\n",
    "for review in ptrain[\"review\"]:\n",
    "    review = review.replace(\"<br />\", \" \")\n",
    "    doc = nlp(review)\n",
    "    tokenbypreview = []\n",
    "    ##print(review)\n",
    "    for token in doc:\n",
    "        if token.is_stop==False and token.is_punct==False and token.text.isnumeric()==False:\n",
    "            tokenbypreview.append(token.text.lower())\n",
    "            ##print(token.text.lower())\n",
    "    ##print(tokenbyreview)\n",
    "    positivereviews.append(set(tokenbypreview))"
   ]
  },
  {
   "cell_type": "code",
   "execution_count": 18,
   "id": "23efed86",
   "metadata": {},
   "outputs": [],
   "source": [
    "##positivereviews"
   ]
  },
  {
   "cell_type": "code",
   "execution_count": 19,
   "id": "070336ed",
   "metadata": {},
   "outputs": [
    {
     "data": {
      "text/plain": [
       "['tok2vec', 'tagger', 'parser', 'attribute_ruler', 'lemmatizer', 'ner']"
      ]
     },
     "execution_count": 19,
     "metadata": {},
     "output_type": "execute_result"
    }
   ],
   "source": [
    "nlp.pipe_names"
   ]
  },
  {
   "cell_type": "code",
   "execution_count": 20,
   "id": "923ea9c3",
   "metadata": {
    "scrolled": false
   },
   "outputs": [],
   "source": [
    "count_positivetrain = {}\n",
    "for bag in positivereviews:\n",
    "    for word in bag:\n",
    "        if word not in count_positivetrain:\n",
    "            count_positivetrain[word]=1\n",
    "        else: \n",
    "            count_positivetrain[word]+=1\n",
    "##print(sorted(list(count_positivetrain.items()), key=lambda x: x[1], reverse=True)) "
   ]
  },
  {
   "cell_type": "code",
   "execution_count": 21,
   "id": "5826892f",
   "metadata": {},
   "outputs": [
    {
     "name": "stdout",
     "output_type": "stream",
     "text": [
      "Number of true positives: 3126, or 31.259999999999998%\n",
      "Number of true negatives: 4560, or 45.6%\n",
      "Number of false positives: 389, or 3.8899999999999997%\n",
      "Number of false negatives: 1925, or 19.25%\n",
      "0.7686\n"
     ]
    }
   ],
   "source": [
    "numtrue_positive = 0\n",
    "numtrue_negative = 0\n",
    "numfalse_positive = 0\n",
    "numfalse_negative = 0\n",
    "for _,row in test.iterrows():\n",
    "    review = row[\"review\"]\n",
    "    ##review = \"it was the best. loved it.\"\n",
    "    review = review.replace(\"<br />\", \" \")\n",
    "    doc = nlp(review)\n",
    "    tokenbyreview = []\n",
    "    ##print(review)\n",
    "    for token in doc:\n",
    "        if token.is_stop==False and token.is_punct==False and token.text.isnumeric()==False:\n",
    "            tokenbyreview.append(token.text.lower())\n",
    "    tokenbyreview = set(tokenbyreview)\n",
    "    score = 0\n",
    "    for word in tokenbyreview: \n",
    "        if word in count_positivetrain: \n",
    "            score+=count_positivetrain[word]\n",
    "        if word in count_negativetrain: \n",
    "            score-=count_negativetrain[word]\n",
    "    ##print(score)\n",
    "    if (score>0 and row[\"sentiment\"] == \"positive\"): numtrue_positive+=1\n",
    "    if (score<0 and row[\"sentiment\"] == \"negative\"): numtrue_negative+=1\n",
    "    if (score<0 and row[\"sentiment\"] == \"positive\"): numfalse_negative+=1\n",
    "    if (score>0 and row[\"sentiment\"] == \"negative\"): numfalse_positive+=1    \n",
    "print(f\"Number of true positives: {numtrue_positive}, or {numtrue_positive/len(test)*100}%\")\n",
    "print(f\"Number of true negatives: {numtrue_negative}, or {numtrue_negative/len(test)*100}%\")\n",
    "print(f\"Number of false positives: {numfalse_positive}, or {numfalse_positive/len(test)*100}%\")\n",
    "print(f\"Number of false negatives: {numfalse_negative}, or {numfalse_negative/len(test)*100}%\")\n",
    "accuracy = (numtrue_positive+numtrue_negative)/len(test)\n",
    "print(accuracy)"
   ]
  },
  {
   "cell_type": "code",
   "execution_count": null,
   "id": "1fbad0d2",
   "metadata": {},
   "outputs": [],
   "source": []
  }
 ],
 "metadata": {
  "kernelspec": {
   "display_name": "Python 3 (ipykernel)",
   "language": "python",
   "name": "python3"
  },
  "language_info": {
   "codemirror_mode": {
    "name": "ipython",
    "version": 3
   },
   "file_extension": ".py",
   "mimetype": "text/x-python",
   "name": "python",
   "nbconvert_exporter": "python",
   "pygments_lexer": "ipython3",
   "version": "3.9.13"
  }
 },
 "nbformat": 4,
 "nbformat_minor": 5
}
